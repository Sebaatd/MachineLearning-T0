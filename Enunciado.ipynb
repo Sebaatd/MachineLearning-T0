{
 "cells": [
  {
   "cell_type": "markdown",
   "metadata": {},
   "source": [
    "<img src=\"http://www.exalumnos.usm.cl/wp-content/uploads/2015/06/Isotipo-Negro.gif\" title=\"Title text\" width=\"20%\" height=\"20%\" />\n",
    "\n",
    "\n",
    "<hr style=\"height:2px;border:none\"/>\n",
    "<h1 align='center'> INF-393 Máquinas de Aprendizaje II-2019 </h1>\n",
    "\n",
    "<H3 align='center'> Tarea 0 - Introducción a Máquinas de Aprendizaje </H3>\n",
    "<hr style=\"height:2px;border:none\"/>\n",
    "\n",
    "**Temas**  \n",
    "* Introducción a librerías comunes de *Machine Learning*:\n",
    "    * Pandas\n",
    "    * Numpy\n",
    "    * Sklearn\n",
    "    * Matplotlib\n",
    "    * Otro..\n",
    "* Implementación de Perceptrón y variantes.\n",
    "* Implementación de método aprendizaje online (Gradiente descendente).\n",
    " \n",
    "\n",
    "** Formalidades **  \n",
    "* Equipos de trabajo de: 2 personas\n",
    "* Se debe preparar un (breve) Jupyter/IPython notebook que explique la actividad realizada y las conclusiones del trabajo\n",
    "* Fecha de entrega: 6 de Septiembre.\n",
    "* Formato de entrega: envı́o de link Github al correo electrónico del ayudante (*<francisco.mena.13@sansano.usm.cl>*) , incluyendo al profesor en copia (*<jnancu@inf.utfsm.cl>*). Por favor especificar el siguiente asunto: [Tarea0-INF393-II-2019]\n",
    "\n",
    "<hr style=\"height:2px;border:none\"/>\n",
    "\n",
    "La tarea se divide en secciones:\n",
    "\n",
    "[1.](#primero) Perceptrón a mano\n",
    "\n",
    "<hr style=\"height:2px;border:none\"/>"
   ]
  },
  {
   "cell_type": "markdown",
   "metadata": {},
   "source": [
    "<a id=\"primero\"></a>\n",
    "## 1. Perceptrón a mano\n",
    "\n",
    "<img src=\"https://miro.medium.com/max/1838/1*n6sJ4yZQzwKL9wnF5wnVNg.png\" width=\"40%\"  />\n",
    "\n",
    "En esta sección se le pedirá que implemente el algoritmo online del *perceptrón* [[2]](#refs) para aprender una función de separación lineal en un problema de clasificación binaria (0 o 1) a través de la función de *treshold*. Un algoritmo online, como el caso del *perceptrón*, aprende de una instancia de dato a la vez $(x^{(i)},y^{(i)})$, dentro de un conjunto de datos $\\{(x^{(1)},y^{(1)}), (x^{(2)},y^{(2)}), \\ldots, (x^{(N)},y^{(N)})  \\}$, donde la predicción de la clase para cada instancia es través de la función de *treshold*:\n",
    "\n",
    "$$\n",
    "\\hat{y_i} = f(x^{(i)};w,b) = \\left\\{ \\begin{array}{lc}\n",
    "       1 &  si \\ \\sum_j w_j \\cdot x^{(i)}_j +b \\geq \\theta \\\\\n",
    "       0 &  si \\ \\sum_j w_j \\cdot x^{(i)}_j +b < \\theta\n",
    "     \\end{array} \\right.\n",
    "$$\n",
    "\n",
    "\n",
    "Donde $\\theta = 0$. Recordar que el *bias* $b$ se puede incluir dentro de los pesos/parámetros $w$ si se agrega una columna extra de 1's a los datos de entrada $x$ (*como se ve en la imagen anterior*). \n",
    "\n",
    "Para lo que sigue de la actividad sólo podrá utilizar *numpy* (para operaciones de algebra lineal)."
   ]
  },
  {
   "cell_type": "code",
   "execution_count": 1,
   "metadata": {},
   "outputs": [],
   "source": [
    "#Importación de todas las librerías\n",
    "from time import time\n",
    "import numpy as np\n",
    "from sklearn.datasets import load_breast_cancer \n",
    "from sklearn.preprocessing import StandardScaler\n",
    "import matplotlib.pyplot as plt"
   ]
  },
  {
   "cell_type": "markdown",
   "metadata": {},
   "source": [
    "> a) Escriba una función que calcule el valor de salida (*output*) del modelo $f(x)$ para un patrón de entrada $x$ a través de los pesos $w$ del modelo. *Decida si incluir los bias dentro de $w$ o manejarlos de manera separada*."
   ]
  },
  {
   "cell_type": "code",
   "execution_count": 2,
   "metadata": {},
   "outputs": [],
   "source": [
    "#Función que calcula el output del modelo f. Se incluyen los bias dentro de w.\n",
    "def f(xi, w):\n",
    "    if(np.dot(w, xi) >= 0):\n",
    "        return 1\n",
    "    return 0"
   ]
  },
  {
   "cell_type": "markdown",
   "metadata": {},
   "source": [
    "> b) Escriba una función que implemente el clásico algoritmo del **Perceptrón** para un problema binario que permita entrenarlo en un conjunto de datos de tamaño $N$, leídos de manera *online* (uno a uno). *Recordar la decisión anterior sobre los bias*.\n",
    "\n"
   ]
  },
  {
   "cell_type": "code",
   "execution_count": 3,
   "metadata": {},
   "outputs": [],
   "source": [
    "def perceptron(x, y, n, N):\n",
    "    init_time = time()\n",
    "    w = np.zeros(x[0].size)\n",
    "    acc_arr = []\n",
    "    mistakes = True\n",
    "    \n",
    "    while(mistakes):\n",
    "        mistakes = False\n",
    "        correct = 0\n",
    "        \n",
    "        for i in range(N):            \n",
    "            if y[i] != f(x[i], w):\n",
    "                \n",
    "                #Como en la definición del algoritmo los valores de y son 0 y 1, se debe hacer un ajuste.\n",
    "                y_i = 1\n",
    "                if(y[i] == 0):\n",
    "                    y_i = -1\n",
    "                \n",
    "                w = (w + n * y_i * x[i]).T\n",
    "                mistakes = True \n",
    "                \n",
    "            else:\n",
    "                correct += 1 \n",
    "            \n",
    "            acc_arr.append(correct/(i+1))\n",
    "            \n",
    "        #Comentar break para ejecución completa    \n",
    "        break  \n",
    "    end_time = time()\n",
    "    print(\"Tiempo:\", end_time - init_time, \"[s]\")\n",
    "    return acc_arr"
   ]
  },
  {
   "cell_type": "markdown",
   "metadata": {},
   "source": [
    "> c) Demuestre que lo implementado funciona en un problema real de clasificación. Para esto utilice el dataset **Breast cancer wisconsin**, disponible a través de la librería __[*sklearn*](http://scikit-learn.org)__, el cual corresponde a la detección de cancer mamario a través de características relevantes (numéricas continuas) de un examen realizado, como por ejemplo la textura, simetría y tamaño de una masa mamaria. Estas características deben combinarse linealmente para la detección del cancer.\n",
    "> <div class=\"alert alert-block alert-info\">Es una buena práctica el normalizar los datos antes de trabajar con el modelo</div>\n",
    "```python\n",
    "from sklearn.datasets import load_breast_cancer\n",
    "X_train,y_train = load_breast_cancer(return_X_y=True)\n",
    "scaler = StandardScaler().fit(X_train)\n",
    "X_train = scaler.transform(X_train)\n",
    "X_train = np.c_[X_train, np.ones(N) ] #add columns of 1's if you want\n",
    "```\n",
    "Para evaluar los resultados mida la exactitud (*accuracy*) de la clasificación durante el entrenamiento (por cada iteración/instancia/dato) y grafique, utilice el conjunto de entrenamiento realizando una sola pasada (el objetivo de esta sección es familiarizarse con el algoritmo). Además reporte el tiempo de entrenamiento mediante el algoritmo implementado."
   ]
  },
  {
   "cell_type": "code",
   "execution_count": 4,
   "metadata": {},
   "outputs": [
    {
     "name": "stdout",
     "output_type": "stream",
     "text": [
      "Tiempo: 0.0010249614715576172 [s]\n"
     ]
    }
   ],
   "source": [
    "X_train,y_train = load_breast_cancer(return_X_y=True) \n",
    "scaler = StandardScaler().fit(X_train) \n",
    "X_train = scaler.transform(X_train) \n",
    "X_train = np.c_[X_train, np.ones(len(X_train)) ] #add columns of 1's if you want\n",
    "\n",
    "accuracies = perceptron(X_train, y_train, 0.3, len(X_train))"
   ]
  },
  {
   "cell_type": "code",
   "execution_count": 5,
   "metadata": {},
   "outputs": [
    {
     "data": {
      "image/png": "[encoded data removed]",
      "text/plain": [
       "<Figure size 432x288 with 1 Axes>"
      ]
     },
     "metadata": {
      "needs_background": "light"
     },
     "output_type": "display_data"
    }
   ],
   "source": [
    "plt.plot(accuracies)\n",
    "plt.ylabel('accuracy')\n",
    "plt.show()"
   ]
  },
  {
   "cell_type": "markdown",
   "metadata": {},
   "source": [
    "Se observa que el perceptrón se puede adaptar a un problema real de clasificación. En este caso se ve que la exactitud mejora a medida que pasa cada iteración, por lo que el algoritmo es efectivo (se reducen los errores). Por otra parte, el tiempo de ejecución fue de aproximadamente 0.001 segundos."
   ]
  },
  {
   "cell_type": "markdown",
   "metadata": {},
   "source": [
    "> d) Escriba una función que implemente el **Forgetrón** [[3]](#refs) con una memoria de tamaño $K$ y la función de kernel como el producto interno (*inner-product*), esto es $<a,b> = \\sum_i a_i \\cdot b_i$."
   ]
  },
  {
   "cell_type": "code",
   "execution_count": 6,
   "metadata": {},
   "outputs": [],
   "source": [
    "#Basado en paper del Forgetrón\n",
    "#https://papers.nips.cc/paper/2806-the-forgetron-a-kernel-based-perceptron-on-a-fixed-budget.pdf\n",
    "def psi(sigma, phi, mu):\n",
    "    return (sigma * phi)**2 + 2 * sigma * phi * (1 - phi * mu)\n",
    "\n",
    "def muu_t(x, y, f, rt, t):\n",
    "    y_rt = 1\n",
    "    if y[rt] == 0:\n",
    "        y_rt = -1\n",
    "        \n",
    "    y_t = 1\n",
    "    if y[t] == 0:\n",
    "        y_t = -1\n",
    "        \n",
    "    return y_rt * (f + y_t * np.dot(x[t], x[rt]))\n",
    "\n",
    "def max_phi(s, Qt, Mt, mu):\n",
    "    phi = 0.001\n",
    "    current_max = 0.001\n",
    "    \n",
    "    while(phi < 1):\n",
    "        if psi(s, phi, mu) + Qt <= (15/32) * Mt:\n",
    "            if phi > current_max:\n",
    "                current_max = phi\n",
    "        \n",
    "        phi += 0.001\n",
    "                \n",
    "    return current_max\n",
    "    \n",
    "def forgetron(x, y, N, K):\n",
    "    init_time = time()\n",
    "    #Definición de variables\n",
    "    I = []\n",
    "    F = np.zeros(N)\n",
    "    Q = np.zeros(N)\n",
    "    M = np.zeros(N+1)\n",
    "    sigma = np.zeros((N,N))\n",
    "    acc_arr = []\n",
    "    \n",
    "    #Inicialización\n",
    "    I.append(set())\n",
    "    F[0] = 0\n",
    "    Q[0] = 0\n",
    "    M[0] = 0\n",
    "    \n",
    "    #Iteración por datos\n",
    "    for t in range(N-1):\n",
    "        x_t = x[t]\n",
    "        y_t = 1\n",
    "        if(y[t] == 0):\n",
    "            y_t = -1\n",
    "        \n",
    "        #Si es correcto\n",
    "        if y_t * F[t] > 0:\n",
    "            I.append(I[t])\n",
    "            Q[t+1] = Q[t]\n",
    "            M[t+1] = M[t]\n",
    "            for i in I[t]:\n",
    "                sigma[i, t+1] = sigma[i, t]\n",
    "                \n",
    "        #Si hay un error    \n",
    "        else:\n",
    "            M[t+1] = M[t] + 1\n",
    "            It_aux = I[t]\n",
    "            It_aux.add(t)\n",
    "            \n",
    "            #Si hay espacio en la memoria del forgetrón\n",
    "            if len(It_aux) <= K:\n",
    "                I.append(It_aux)\n",
    "                Q[t+1] = Q[t]\n",
    "                sigma[t,t] = 1\n",
    "                for i in I[t+1]:\n",
    "                    sigma[i, t+1] = sigma[i, t]\n",
    "            \n",
    "            #Si no queda espacio en la memoria\n",
    "            else:\n",
    "                #Obtención del mínimo elemento del conjunto actual\n",
    "                rt = min(I[t])\n",
    "                \n",
    "                #Obtención de phi que maximia psi\n",
    "                mu_t = muu_t(x, y, F[t], rt, t)\n",
    "                phi_t = max_phi(sigma[rt, t], Q[t], M[t], mu_t)\n",
    "                \n",
    "                #Actualización de variables\n",
    "                sigma[t,t] = 1\n",
    "                for i in It_aux:\n",
    "                    sigma[i, t+1] = phi_t * sigma[i, t]\n",
    "                    \n",
    "                Q[t+1] = Q[t] + psi(sigma[rt, t], phi_t, mu_t)\n",
    "                \n",
    "                #Se olvida del último elemento del conjunto\n",
    "                It_aux.remove(rt)\n",
    "                I.append(It_aux)\n",
    "        \n",
    "        #Se calcula f(x_t+1)\n",
    "        result = 0\n",
    "        for i in I[t+1]:\n",
    "            y_i = 1\n",
    "            if(y[i] == 0): \n",
    "                y_i = -1\n",
    "                \n",
    "            result += sigma[i, t+1] * y[i] * np.dot(x[i], x[t+1])\n",
    "            #K(x[i], x[t+1])\n",
    "            \n",
    "        F[t+1] = result\n",
    "        \n",
    "        #Calculo del accuracy en base a la cantidad de errores encontrados\n",
    "        acc_arr.append(((t+1)-M[t])/(t+1))\n",
    "\n",
    "    end_time = time()\n",
    "    print(\"Tiempo:\", end_time - init_time, \"[s]\")\n",
    "    return acc_arr"
   ]
  },
  {
   "cell_type": "markdown",
   "metadata": {},
   "source": [
    "> e) Vuelva a realizar el item c) para el **Forgetrón** con un $K=10$ y compare los resultados."
   ]
  },
  {
   "cell_type": "code",
   "execution_count": 7,
   "metadata": {},
   "outputs": [
    {
     "name": "stdout",
     "output_type": "stream",
     "text": [
      "Tiempo: 0.13167524337768555 [s]\n"
     ]
    },
    {
     "data": {
      "image/png": "[encoded data removed]",
      "text/plain": [
       "<Figure size 432x288 with 1 Axes>"
      ]
     },
     "metadata": {
      "needs_background": "light"
     },
     "output_type": "display_data"
    }
   ],
   "source": [
    "X_train,y_train = load_breast_cancer(return_X_y=True) \n",
    "scaler = StandardScaler().fit(X_train) \n",
    "X_train = scaler.transform(X_train) \n",
    "X_train = np.c_[X_train, np.ones(len(X_train)) ] #add columns of 1's if you want\n",
    "\n",
    "accuracies = forgetron(X_train, y_train, len(X_train), 10)\n",
    "\n",
    "plt.plot(accuracies)\n",
    "plt.ylabel('accuracy')\n",
    "plt.show()"
   ]
  },
  {
   "cell_type": "markdown",
   "metadata": {},
   "source": [
    "Adaptando el forgetrón para el mismo caso se observa una deficiencia. A pesar de que el comportamiento es similar, la tasa de crecimiento de la exactitud es notablemente menor y llega a un valor menor que el perceptrón tradicional. Por otra parte, el tiempo de ejecución es considerablemente mayor. Si bien, el algoritmo es similar, la memoria del forgetrón impide lograr mejor exactidud. Sin embargo depende del caso, ya que según [2], el perceptrón puede ser eficiente cuando se utiliza con kernels. Se podría mejorar el rendimiento de este buscando un $K$ adecuado."
   ]
  },
  {
   "cell_type": "markdown",
   "metadata": {},
   "source": [
    "### ¿Qué sucede al variar la función objetivo del problema? \n",
    "Si utilizáramos la función de pérdida *binary cross entropy*, que castiga de manera suave los valores en que se equivoca el modelo a través de que el valor de salida sea una confiabilidad $g(x; w,b) \\in [0,1]$.\n",
    "$$\n",
    "\\ell (y, \\ g(x;w,b)) = - y \\cdot \\log{(g(x;w,b))} - (1-y) \\cdot \\log{(1-g(x;w,b))}\n",
    "$$\n",
    "\n",
    "Realice una modificación al perceptrón para que entregue como salida una confiabilidad continua entre 0 y 1. Una buena aproximación de la función *treshold* (con $\\theta=0$) del perceptrón es la función sigmoidal.\n",
    "\n",
    "<img src=\"https://i.imgur.com/lr6F3Ur.png\" width=\"60%\"  />\n",
    "\n",
    "Ésto sería modelar el perceptrón como:\n",
    "$$\n",
    "g(x^{(i)};w,b) = p(y=1|x^{(i)}) = \\sigma \\left( \\sum_j w_j \\cdot x^{(i)}_j +b \\right)\n",
    "$$\n",
    "\n",
    "Con $\\sigma$ la función sigmoidal de la forma $\\sigma(\\xi) = 1/(1+e^{-\\xi}) $, la cual tiene una derivada cíclica que hace más fácil el cálculo: $\\sigma'(\\xi) = \\sigma(\\xi) (1-\\sigma(\\xi))$\n",
    "\n",
    "> f) Escriba una función que compute la función sigmoidal para una entrada $\\xi$ cualquiera. *Tenga cuidado con los límites de números que puede trabajar python (por ejemplo $\\exp{800}\\rightarrow +\\infty$)*. *Se aconseja acotar/truncar los valores que entran a la función para que la operación se pueda realizar*. Además escriba una función que calcule la salida del nuevo modelo $g(x; w,b)$ con esta función sigmoidal."
   ]
  },
  {
   "cell_type": "markdown",
   "metadata": {},
   "source": [
    "Para buscar los límites de la función sigmoidal se ejecuta el siguiente código:"
   ]
  },
  {
   "cell_type": "code",
   "execution_count": 8,
   "metadata": {},
   "outputs": [
    {
     "name": "stdout",
     "output_type": "stream",
     "text": [
      "Limite superior:  37\n",
      "Limite inferior:  -710\n"
     ]
    }
   ],
   "source": [
    "#Busqueda del límite superior\n",
    "limit_reached = False\n",
    "xi = 0\n",
    "\n",
    "while(limit_reached == False):\n",
    "    sig = 1/(1 + np.exp(-1 * xi))\n",
    "    if(sig == 1):\n",
    "        print(\"Limite superior: \", xi)\n",
    "        limit_reached = True\n",
    "\n",
    "    xi += 1\n",
    "\n",
    "#Busqueda del límite inferior\n",
    "limit_reached = False\n",
    "xi = 0\n",
    "while(limit_reached == False):\n",
    "    sig = 1/(1 + np.exp(-1 * xi))\n",
    "    if(sig == 0):\n",
    "        print(\"Limite inferior: \", xi)\n",
    "        limit_reached = True\n",
    "\n",
    "    xi -= 1"
   ]
  },
  {
   "cell_type": "markdown",
   "metadata": {},
   "source": [
    "Se obtiene que cuando $\\xi$ tiene un valor de $37$, la función sigmoidal vale 1 y todos los valores superiores a este convergerán al mismo; por otra parte, cuando $\\xi$ toma un valor de $-710$, la función vale 0 y todos los valores inferiores convergerán al mismo. Luego, la funciones se definen como:"
   ]
  },
  {
   "cell_type": "code",
   "execution_count": 9,
   "metadata": {},
   "outputs": [],
   "source": [
    "def sigmoidal(xi):\n",
    "    if xi <= -710:\n",
    "        xi = -709\n",
    "        \n",
    "    elif xi >= 37:\n",
    "        xi = 36\n",
    "        \n",
    "    return 1/(1 + np.exp(-1 * xi))\n",
    "\n",
    "def g(x_i, w):\n",
    "    return sigmoidal(np.dot(w, x_i))"
   ]
  },
  {
   "cell_type": "markdown",
   "metadata": {},
   "source": [
    "> g) Escriba una función que calcule la función de pérdida descrita anteriormente para un dato $x^{(i)}$, utilizando $g(x^{(i)};w,b)$. *Tenga cuidado con los límites del logaritmo (recordad que $\\log{0}\\rightarrow +\\infty$)*."
   ]
  },
  {
   "cell_type": "code",
   "execution_count": 10,
   "metadata": {},
   "outputs": [],
   "source": [
    "#No se realiza ajuste para los límites del logaritmo ya que se hicieron en la sigmoidal.\n",
    "def ell(y, x_i, w):\n",
    "    g_xw = g(x_i, w)\n",
    "    return -y * np.log(g_xw) - (1 - y) * np.log(1 - g_xw)"
   ]
  },
  {
   "cell_type": "markdown",
   "metadata": {},
   "source": [
    "> h) Escriba una función que calcule el gradiente (derivada) de la función de pérdida anterior con respecto a los pesos del modelo $w$. *Se recomienda derivarla analíticamente y luego escribirla*. *Recuerde el uso de la regla de la cadena*."
   ]
  },
  {
   "cell_type": "markdown",
   "metadata": {},
   "source": [
    "Para efectos de este entrenamiento, la función de pérdida está definida como:\n",
    "\n",
    "$$\n",
    "\\ell(y, \\sigma(\\xi)) = -y\\ln(\\sigma(\\xi)) - (1-y)\\ln(1-\\sigma(\\xi))\n",
    "$$\n",
    "\n",
    "donde el bias está incluido en los pesos y $\\xi$ se define como:\n",
    "\n",
    "$$\n",
    "\\xi = \\sum_j w_j \\cdot x^{(i)}_j\n",
    "$$\n",
    "\n",
    "Calcular el gradiente de la Binary Cross Entropy implica derivar multiples veces con respecto a los pesos del modelo $w$. Para un peso particular $w_{l}$, se pueden calcular las siguientes derivadas:\n",
    "\n",
    "$$\n",
    "\\frac{\\partial \\xi}{\\partial w_{l}} = \\frac{\\partial \\sum_j w_j \\cdot x^{(i)}_j}{\\partial w_{l}} = x_{l}^{(i)}\n",
    "$$\n",
    "\n",
    "$$\n",
    "\\frac{\\partial \\sigma(\\xi)}{\\partial w_{l}} = \\sigma(\\xi)(1-\\sigma(\\xi))*\\frac{\\partial \\xi}{\\partial w_{l}} = \\sigma(\\xi)(1-\\sigma(\\xi))*x_{l}^{(i)}\n",
    "$$\n",
    "\n",
    "$$\n",
    "\\frac{\\partial \\ln(\\sigma(\\xi))}{\\partial w_{l}} = \\frac{1}{\\sigma(\\xi)}*\\frac{\\partial \\sigma(\\xi)}{\\partial w_{l}} = \\frac{1}{\\sigma(\\xi)} * \\sigma(\\xi)(1-\\sigma(\\xi))*x_{l}^{(i)} = (1-\\sigma(\\xi))*x_{l}^{(i)}\n",
    "$$\n",
    "\n",
    "\n",
    "Luego, la derivada de la función de pérdida para un peso $w_{l}$ es:\n",
    "\n",
    "$$\n",
    "\\frac{\\partial \\ell(y^{(i)}, \\sigma(\\xi))}{\\partial w_{l}} = \\sigma(\\xi)(1-\\sigma(\\xi))*x_{l}^{(i)} * (\\frac{-y^{(i)}}{\\sigma(\\xi)} + \\frac{(1-y^{(i)})}{(1-\\sigma(\\xi))})\n",
    "$$\n",
    "\n",
    "Finalmente, el gradiente de la Binary Cross Entropy es el conjunto de las derivadas respecto a todos los pesos."
   ]
  },
  {
   "cell_type": "code",
   "execution_count": 11,
   "metadata": {},
   "outputs": [],
   "source": [
    "def gradient(x_i, w, y):\n",
    "    #Se reserva espacio para almacenar el gradiente\n",
    "    result = np.zeros(len(w))\n",
    "    \n",
    "    #Calculo de derivadas según cada peso\n",
    "    for i in range(len(w)):\n",
    "        ga = g(x_i, w)\n",
    "        result[i] = ga * (1 - ga) * x_i[i] * ((-y/ga) + ((1 - y)/(1 - ga)))\n",
    "    \n",
    "    #Se retorna el conjunto de derivadas o gradiente\n",
    "    return result"
   ]
  },
  {
   "cell_type": "markdown",
   "metadata": {},
   "source": [
    "> i) Realice una modificación al algoritmo implementado en b) (**Perceptrón**) para que se adapte a la función objetivo *binary cross entropy* implementada, para ésto haga uso del algoritmo de optimización SGD [[4]](#refs) (*Stochastic Gradient Descend*) con tasa de aprendizaje $\\eta \\in [0,1]$.\n",
    "\n",
    "$$ \\vec{w}^{(t+1)} \\leftarrow \\vec{w}^{(t)} - \\eta \\cdot \\nabla_{\\vec{w}^{(t)}} \\ell $$"
   ]
  },
  {
   "cell_type": "code",
   "execution_count": 12,
   "metadata": {},
   "outputs": [],
   "source": [
    "def perceptron_sgd(x, y, n, N):\n",
    "    init_time = time()\n",
    "    w = np.zeros(x[0].size)  \n",
    "    correct = 0\n",
    "    acc_arr = []\n",
    "    losses = []\n",
    "    \n",
    "    mistakes = True\n",
    "    while(mistakes):\n",
    "        mistakes = False\n",
    "\n",
    "        for i in range(N):\n",
    "            if y[i] != f(x[i], w):\n",
    "                w = (w.T - (n * gradient(x[i], w, y[i]))).T\n",
    "                mistakes = True\n",
    "            \n",
    "            else:\n",
    "                correct += 1\n",
    "            \n",
    "            acc_arr.append(correct/(i+1))\n",
    "            l = ell(y[i], x[i], w)\n",
    "            losses.append(l)\n",
    "            \n",
    "        #Comentar break para ejecutar el entrenamiento completo\n",
    "        break\n",
    "        \n",
    "    end_time = time()\n",
    "    print(\"Tiempo:\", end_time - init_time, \"[s]\")\n",
    "    return (acc_arr, losses)"
   ]
  },
  {
   "cell_type": "markdown",
   "metadata": {},
   "source": [
    "> j) Vuelva a realizar el item c) con esta modificación, además grafique la función de pérdida en el transcurso del entrenamiento. Compare los resultados."
   ]
  },
  {
   "cell_type": "code",
   "execution_count": 13,
   "metadata": {},
   "outputs": [
    {
     "name": "stdout",
     "output_type": "stream",
     "text": [
      "Tiempo: 0.012963056564331055 [s]\n"
     ]
    },
    {
     "data": {
      "image/png": "[encoded data removed]",
      "text/plain": [
       "<Figure size 432x288 with 1 Axes>"
      ]
     },
     "metadata": {
      "needs_background": "light"
     },
     "output_type": "display_data"
    },
    {
     "data": {
      "image/png": "[encoded data removed]",
      "text/plain": [
       "<Figure size 432x288 with 1 Axes>"
      ]
     },
     "metadata": {
      "needs_background": "light"
     },
     "output_type": "display_data"
    }
   ],
   "source": [
    "X_train,y_train = load_breast_cancer(return_X_y=True) \n",
    "scaler = StandardScaler().fit(X_train) \n",
    "X_train = scaler.transform(X_train) \n",
    "X_train = np.c_[X_train, np.ones(len(X_train)) ] #add columns of 1's if you want\n",
    "\n",
    "accuracies, losses = perceptron_sgd(X_train, y_train, 0.3, len(X_train))\n",
    "\n",
    "plt.plot(accuracies)\n",
    "plt.title('Accuracy por cada dato')\n",
    "plt.ylabel('Accuracy')\n",
    "plt.show()\n",
    "\n",
    "plt.plot(losses)\n",
    "plt.title('Loss por cada dato')\n",
    "plt.ylabel('Losses')\n",
    "plt.show()"
   ]
  },
  {
   "cell_type": "markdown",
   "metadata": {},
   "source": [
    "En base a los resultados obtenidos por el perceptrón con Binary Cross Entropy se observa que el accuracy tiene un comportamiento bastante similar al del primer perceptrón, incluso logrando un valor final levemente superior. La ventaja que tiene el segundo perceptrón es que con la función de pérdida castiga levemente un error y el gradiente descendente permite actualizar los pesos hacia una dirección que pueda minimizarlo (es decir, aproximar el output a 0 en las siguientes iteraciones); esto se puede observar en la segunda figura, donde el valor del las pérdidas tiende a volver a cero continuamente, a excepción de algunos casos probablemente debido a las cotas impuestas para la sigmoidal. Respecto al tiempo, el segundo perceptrón tarda un poco más.\n",
    "\n",
    "En conclusión, ambos algoritmos son bastante similar, solo que para el perceptrón tradicional hay casos en que se deben romper los empates mientras que el gradiente descendente permite ajustar la dirección en caso de un error. En este caso solamente se estudió una sola pasada por datos, sin embargo, para datos muy grandes y sin esta restricción, el segundo método podría ser mas conveniente ya que puede el entrenamiento se refina más rápido."
   ]
  },
  {
   "cell_type": "markdown",
   "metadata": {},
   "source": [
    "<a id=\"refs\"></a>\n",
    "### Referencias\n",
    "[1] Hastie, T.; Tibshirani, R., Friedman, J. (2009), *The Elements of Statistical Learning*, Second Edition.\n",
    "Springer New York Inc.  \n",
    "[2] STEPHEN, I. (1990). *Perceptron-based learning algorithms*. IEEE Transactions on neural networks, 50(2), 179.  \n",
    "[3] Dekel, O., Shalev-Shwartz, S., & Singer, Y. (2006). *The Forgetron: A kernel-based perceptron on a fixed budget*. In Advances in neural information processing systems (pp. 259-266).  \n",
    "[4] Ruder, S. (2016). *An overview of gradient descent optimization algorithms*. arXiv preprint arXiv:1609.04747.  "
   ]
  },
  {
   "cell_type": "code",
   "execution_count": null,
   "metadata": {},
   "outputs": [],
   "source": []
  }
 ],
 "metadata": {
  "kernelspec": {
   "display_name": "Python 3",
   "language": "python",
   "name": "python3"
  },
  "language_info": {
   "codemirror_mode": {
    "name": "ipython",
    "version": 3
   },
   "file_extension": ".py",
   "mimetype": "text/x-python",
   "name": "python",
   "nbconvert_exporter": "python",
   "pygments_lexer": "ipython3",
   "version": "3.7.1"
  }
 },
 "nbformat": 4,
 "nbformat_minor": 2
}
